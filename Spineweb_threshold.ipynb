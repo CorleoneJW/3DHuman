{
 "cells": [
  {
   "cell_type": "code",
   "execution_count": 2,
   "metadata": {},
   "outputs": [
    {
     "name": "stderr",
     "output_type": "stream",
     "text": [
      "c:\\Users\\manjw\\.conda\\envs\\dataEngineering\\Lib\\site-packages\\torchaudio\\backend\\utils.py:74: UserWarning: No audio backend is available.\n",
      "  warnings.warn(\"No audio backend is available.\")\n",
      "c:\\Users\\manjw\\.conda\\envs\\dataEngineering\\Lib\\site-packages\\tqdm\\auto.py:21: TqdmWarning: IProgress not found. Please update jupyter and ipywidgets. See https://ipywidgets.readthedocs.io/en/stable/user_install.html\n",
      "  from .autonotebook import tqdm as notebook_tqdm\n",
      "C:\\Users\\manjw\\AppData\\Local\\Temp\\ipykernel_5160\\3418379195.py:16: DeprecationWarning: the imp module is deprecated in favour of importlib and slated for removal in Python 3.12; see the module's documentation for alternative uses\n",
      "  import imp\n"
     ]
    }
   ],
   "source": [
    "import nibabel as nib\n",
    "import matplotlib.pyplot as plt\n",
    "import torch\n",
    "import torch.nn as nn\n",
    "import torch.optim as optim\n",
    "from torch.utils.data import Dataset\n",
    "from torch.utils.data import DataLoader\n",
    "from torchvision.transforms import ToTensor\n",
    "import torchmetrics.functional as evafunc\n",
    "import torchvision.transforms as transforms\n",
    "import numpy as np\n",
    "import torchvision.models as models\n",
    "from segmentation_models_pytorch.losses import DiceLoss, FocalLoss\n",
    "import segmentation_models_pytorch as smp\n",
    "import os\n",
    "import imp\n",
    "import CTimageLIB\n",
    "imp.reload(CTimageLIB)\n",
    "from PIL import Image"
   ]
  },
  {
   "cell_type": "code",
   "execution_count": 3,
   "metadata": {},
   "outputs": [],
   "source": [
    "# 自定义数据集类\n",
    "class SpineWeb15(Dataset):\n",
    "    def __init__(self, data_path, transform=None):\n",
    "        self.data_path = data_path\n",
    "        self.transform = transform\n",
    "        \n",
    "    def __len__(self):\n",
    "        file_list = os.listdir(self.data_path)  # 列出文件夹中的所有文件和文件夹\n",
    "        file_count = len(file_list)  # 获取文件数量\n",
    "        return file_count\n",
    "    \n",
    "    def __getitem__(self, index):\n",
    "        metadata = np.load(self.data_path+str(index)+\".npy\")\n",
    "        image = metadata[0]\n",
    "        label = metadata[1]\n",
    "\n",
    "        image_data = torch.from_numpy(image).float()\n",
    "        label_data = torch.from_numpy(label).float()\n",
    "        \n",
    "        if self.transform:\n",
    "            image_data = self.transform(image_data)\n",
    "            label_data = self.transform(label_data)\n",
    "        return image_data, label_data\n"
   ]
  },
  {
   "cell_type": "code",
   "execution_count": 17,
   "metadata": {},
   "outputs": [],
   "source": [
    "def calculate_pixel_accuracy(prediction, target):\n",
    "    # 将预测结果和目标标签进行逐像素比较，并计算正确预测像素的比例\n",
    "    correct_pixels = (prediction == target).sum()\n",
    "    total_pixels = target.size\n",
    "    return correct_pixels, total_pixels\n",
    "\n",
    "def calculate_iou(pred, target):\n",
    "    intersection = np.logical_and(pred, target)\n",
    "    union = np.logical_or(pred, target)\n",
    "    iou_score = np.sum(intersection) / np.sum(union)\n",
    "    return iou_score\n",
    "\n",
    "def calculate_dice(pred, target):\n",
    "    intersection = np.logical_and(pred, target)\n",
    "    dice_score = 2 * np.sum(intersection) / (np.sum(pred) + np.sum(target))\n",
    "    return dice_score\n",
    "\n",
    "def visualize_results(image,label,output):\n",
    "    fig, axes = plt.subplots(3, 1)\n",
    "    axes[0].imshow(image, cmap='gray')\n",
    "    axes[0].set_title('image')\n",
    "    axes[1].imshow(label, cmap='gray')\n",
    "    axes[1].set_title('label')\n",
    "    axes[2].imshow(output, cmap='gray')\n",
    "    axes[2].set_title('output')\n",
    "    plt.tight_layout()\n",
    "    plt.show()\n"
   ]
  },
  {
   "cell_type": "code",
   "execution_count": 18,
   "metadata": {},
   "outputs": [
    {
     "name": "stdout",
     "output_type": "stream",
     "text": [
      "Length of the dataset: 754\n",
      "----------------  Loading the dataset and evaluate  ----------------\n"
     ]
    },
    {
     "data": {
      "image/png": "[encoded data removed]",
      "text/plain": [
       "<Figure size 640x480 with 3 Axes>"
      ]
     },
     "metadata": {},
     "output_type": "display_data"
    },
    {
     "name": "stdout",
     "output_type": "stream",
     "text": [
      "Best IoU: 0.5146, Best Dice: 0.6525, Best Acc: 0.9645\n"
     ]
    }
   ],
   "source": [
    "# -----------------------------\n",
    "# Threshold method application\n",
    "# -----------------------------\n",
    "\n",
    "# empty the cache for model and training process\n",
    "torch.cuda.empty_cache()\n",
    "\n",
    "# Do the segmentation to exteract the spine part\n",
    "# Threshold segmentation hyper parameters\n",
    "minThreshold = 250\n",
    "maxThreshold = 1500\n",
    "\n",
    "# the variables for evaluation\n",
    "total_correct_pixels = 0\n",
    "total_pixels = 0\n",
    "total_iou = 0.0\n",
    "total_dice = 0.0\n",
    "\n",
    "# set the hyper parameters and the paths 设置超参数和路径\n",
    "data_path = \"./dataset/Spineweb_dataset15/test/\"    # the path of the dataset\n",
    "file_list = os.listdir(data_path)  # list all files and folders in the folder(data path)\n",
    "file_count = len(file_list)  # get the numer of files\n",
    "print(\"Length of the dataset:\",file_count)\n",
    "resize_scale = (128,128)    # set the resize scale for images\n",
    "print(\"----------------  Loading the dataset and evaluate  ----------------\")\n",
    "data_count = 0\n",
    "poster_threshold = 200\n",
    "for index in range(file_count):     # iterate the whole dataset\n",
    "    metadata = np.load(data_path+str(index)+\".npy\")     # load the data\n",
    "    image = np.array(Image.fromarray(metadata[0]).resize(resize_scale))     # Using the PIL to resize the transfer into npy again\n",
    "    label = Image.fromarray((metadata[1] * 255).astype('uint8')).resize(resize_scale)     # Using the PIL to resize the transfer into npy again\n",
    "    label = np.array(label)\n",
    "    label[label < poster_threshold] = 0\n",
    "    label[label >= poster_threshold] = 1\n",
    "    \n",
    "    # print(type(image),image.shape,image)\n",
    "    # print(type(label),label.shape,label)\n",
    "    output = CTimageLIB.thresholdSegmentation(image,minThreshold,maxThreshold)\n",
    "    # evaluations\n",
    "    current_correct_pixels,current_pixels = calculate_pixel_accuracy(output,label)\n",
    "    current_iou = calculate_iou(output,label)\n",
    "    current_dice = calculate_dice(output,label)\n",
    "    # add the results to total one\n",
    "    total_correct_pixels += current_correct_pixels\n",
    "    total_pixels += current_pixels\n",
    "    total_iou += current_iou\n",
    "    total_dice += current_dice\n",
    "    data_count += 1\n",
    "    # visualize the results\n",
    "    if index == 100:\n",
    "        visualize_results(image,label,output)\n",
    "\n",
    "final_acc = total_correct_pixels/total_pixels\n",
    "final_iou = total_iou/data_count\n",
    "final_dice = total_dice/data_count\n",
    "\n",
    "print(f\"Best IoU: {final_iou:.4f}, Best Dice: {final_dice:.4f}, Best Acc: {final_acc:.4f}\")\n"
   ]
  }
 ],
 "metadata": {
  "kernelspec": {
   "display_name": "dataEngineering",
   "language": "python",
   "name": "python3"
  },
  "language_info": {
   "codemirror_mode": {
    "name": "ipython",
    "version": 3
   },
   "file_extension": ".py",
   "mimetype": "text/x-python",
   "name": "python",
   "nbconvert_exporter": "python",
   "pygments_lexer": "ipython3",
   "version": "3.11.4"
  },
  "orig_nbformat": 4
 },
 "nbformat": 4,
 "nbformat_minor": 2
}
