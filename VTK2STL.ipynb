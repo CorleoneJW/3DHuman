{
 "cells": [
  {
   "cell_type": "code",
   "execution_count": 1,
   "metadata": {},
   "outputs": [
    {
     "data": {
      "text/plain": [
       "1"
      ]
     },
     "execution_count": 1,
     "metadata": {},
     "output_type": "execute_result"
    }
   ],
   "source": [
    "# -------------------------------------------------------\n",
    "# Convert the vtk file to stl file (Marching Cubes)\n",
    "# -------------------------------------------------------\n",
    "import vtk\n",
    "\n",
    "transferVTK = \"predict_voxels\"\n",
    "\n",
    "# 读取 VTK 文件\n",
    "reader = vtk.vtkDataSetReader()\n",
    "reader.SetFileName(\"./3d/\"+transferVTK+\".vtk\")  # 替换为您的 VTK 文件名\n",
    "reader.Update()\n",
    "\n",
    "# 获取数据\n",
    "data = reader.GetOutput()\n",
    "\n",
    "# 创建 vtkGeometryFilter 来将数据转换为 vtkPolyData\n",
    "marching_cubes = vtk.vtkMarchingCubes()\n",
    "marching_cubes.SetInputData(data)\n",
    "marching_cubes.SetValue(0, 0.1)  # 设置等值面的阈值\n",
    "marching_cubes.Update()\n",
    "\n",
    "# 创建 STL Writer\n",
    "stl_writer = vtk.vtkSTLWriter()\n",
    "stl_writer.SetFileName(\"./3d/\"+transferVTK+\"_MC.stl\")  # 设置输出的 STL 文件名\n",
    "stl_writer.SetInputData(marching_cubes.GetOutput())  # 将转换后的 vtkPolyData 设置为输入\n",
    "\n",
    "# 执行写入操作\n",
    "stl_writer.Write()\n"
   ]
  },
  {
   "cell_type": "code",
   "execution_count": 2,
   "metadata": {},
   "outputs": [
    {
     "data": {
      "text/plain": [
       "1"
      ]
     },
     "execution_count": 2,
     "metadata": {},
     "output_type": "execute_result"
    }
   ],
   "source": [
    "# -------------------------------------------------------\n",
    "# Convert the vtk file to stl file (Dual Contouring)\n",
    "# -------------------------------------------------------\n",
    "import vtk\n",
    "\n",
    "transferVTK = \"predict_voxels\"\n",
    "\n",
    "# 读取 VTK 文件\n",
    "reader = vtk.vtkDataSetReader()\n",
    "reader.SetFileName(\"./3d/\"+transferVTK+\".vtk\")  # 替换为您的 VTK 文件名\n",
    "reader.Update()\n",
    "\n",
    "# 获取数据\n",
    "data = reader.GetOutput()\n",
    "\n",
    "# 创建 vtkGeometryFilter 来将数据转换为 vtkPolyData\n",
    "marching_cubes = vtk.vtkMarchingCubes()\n",
    "marching_cubes.SetInputData(data)\n",
    "marching_cubes.SetValue(0, 0.1)  # 设置等值面的阈值\n",
    "marching_cubes.Update()\n",
    "\n",
    "# 创建 STL Writer\n",
    "stl_writer = vtk.vtkSTLWriter()\n",
    "stl_writer.SetFileName(\"./3d/\"+transferVTK+\"_DC.stl\")  # 设置输出的 STL 文件名\n",
    "stl_writer.SetInputData(marching_cubes.GetOutput())  # 将转换后的 vtkPolyData 设置为输入\n",
    "\n",
    "# 执行写入操作\n",
    "stl_writer.Write()\n"
   ]
  }
 ],
 "metadata": {
  "kernelspec": {
   "display_name": "dataEngineering",
   "language": "python",
   "name": "python3"
  },
  "language_info": {
   "codemirror_mode": {
    "name": "ipython",
    "version": 3
   },
   "file_extension": ".py",
   "mimetype": "text/x-python",
   "name": "python",
   "nbconvert_exporter": "python",
   "pygments_lexer": "ipython3",
   "version": "3.11.4"
  },
  "orig_nbformat": 4
 },
 "nbformat": 4,
 "nbformat_minor": 2
}
