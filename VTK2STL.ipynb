{
 "cells": [
  {
   "cell_type": "code",
   "execution_count": 1,
   "metadata": {},
   "outputs": [
    {
     "name": "stdout",
     "output_type": "stream",
     "text": [
      "target_voxels Converting time(MC): 0.1107940673828125 s\n"
     ]
    },
    {
     "data": {
      "text/plain": [
       "1"
      ]
     },
     "execution_count": 1,
     "metadata": {},
     "output_type": "execute_result"
    }
   ],
   "source": [
    "# -------------------------------------------------------\n",
    "# Convert the vtk file to stl file (Marching Cubes)\n",
    "# -------------------------------------------------------\n",
    "import vtk\n",
    "import time\n",
    "\n",
    "transferVTK = \"target_voxels\"\n",
    "\n",
    "# 读取 VTK 文件\n",
    "reader = vtk.vtkDataSetReader()\n",
    "reader.SetFileName(\"./3d/\"+transferVTK+\".vtk\")  # 替换为您的 VTK 文件名\n",
    "reader.Update()\n",
    "\n",
    "# 获取数据\n",
    "data = reader.GetOutput()\n",
    "\n",
    "start = time.time()\n",
    "\n",
    "# 创建 vtkGeometryFilter 来将数据转换为 vtkPolyData\n",
    "marching_cubes = vtk.vtkMarchingCubes()\n",
    "marching_cubes.SetInputData(data)\n",
    "marching_cubes.SetValue(0, 0.1)  # 设置等值面的阈值\n",
    "marching_cubes.Update()\n",
    "\n",
    "end = time.time()\n",
    "\n",
    "subtime = end-start\n",
    "\n",
    "# 创建 STL Writer\n",
    "stl_writer = vtk.vtkSTLWriter()\n",
    "stl_writer.SetFileName(\"./3d/\"+transferVTK+\"_MC_target.stl\")  # 设置输出的 STL 文件名\n",
    "stl_writer.SetInputData(marching_cubes.GetOutput())  # 将转换后的 vtkPolyData 设置为输入\n",
    "\n",
    "print(transferVTK,\"Converting time(MC):\",subtime,\"s\")\n",
    "\n",
    "# 执行写入操作\n",
    "stl_writer.Write()\n"
   ]
  },
  {
   "cell_type": "code",
   "execution_count": 2,
   "metadata": {},
   "outputs": [
    {
     "name": "stdout",
     "output_type": "stream",
     "text": [
      "predict_voxels Converting time(MC): 0.1083223819732666 s\n"
     ]
    },
    {
     "data": {
      "text/plain": [
       "1"
      ]
     },
     "execution_count": 2,
     "metadata": {},
     "output_type": "execute_result"
    }
   ],
   "source": [
    "# -------------------------------------------------------\n",
    "# Convert the vtk file to stl file (Marching Cubes)\n",
    "# -------------------------------------------------------\n",
    "import vtk\n",
    "import time\n",
    "\n",
    "transferVTK = \"predict_voxels\"\n",
    "\n",
    "# 读取 VTK 文件\n",
    "reader = vtk.vtkDataSetReader()\n",
    "reader.SetFileName(\"./3d/\"+transferVTK+\".vtk\")  # 替换为您的 VTK 文件名\n",
    "reader.Update()\n",
    "\n",
    "# 获取数据\n",
    "data = reader.GetOutput()\n",
    "\n",
    "start = time.time()\n",
    "\n",
    "# 创建 vtkGeometryFilter 来将数据转换为 vtkPolyData\n",
    "marching_cubes = vtk.vtkMarchingCubes()\n",
    "marching_cubes.SetInputData(data)\n",
    "marching_cubes.SetValue(0, 0.1)  # 设置等值面的阈值\n",
    "marching_cubes.Update()\n",
    "\n",
    "end = time.time()\n",
    "\n",
    "subtime = end-start\n",
    "\n",
    "# 创建 STL Writer\n",
    "stl_writer = vtk.vtkSTLWriter()\n",
    "stl_writer.SetFileName(\"./3d/\"+transferVTK+\"_MC_predict.stl\")  # 设置输出的 STL 文件名\n",
    "stl_writer.SetInputData(marching_cubes.GetOutput())  # 将转换后的 vtkPolyData 设置为输入\n",
    "\n",
    "print(transferVTK,\"Converting time(MC):\",subtime,\"s\")\n",
    "\n",
    "# 执行写入操作\n",
    "stl_writer.Write()\n"
   ]
  },
  {
   "cell_type": "code",
   "execution_count": 3,
   "metadata": {},
   "outputs": [
    {
     "name": "stdout",
     "output_type": "stream",
     "text": [
      "target_voxels Converting time(DC): 0.10909318923950195 s\n"
     ]
    },
    {
     "data": {
      "text/plain": [
       "1"
      ]
     },
     "execution_count": 3,
     "metadata": {},
     "output_type": "execute_result"
    }
   ],
   "source": [
    "# -------------------------------------------------------\n",
    "# Convert the vtk file to stl file (Dual Contouring)\n",
    "# -------------------------------------------------------\n",
    "import vtk\n",
    "import time\n",
    "\n",
    "transferVTK = \"target_voxels\"\n",
    "\n",
    "# 读取 VTK 文件\n",
    "reader = vtk.vtkDataSetReader()\n",
    "reader.SetFileName(\"./3d/\"+transferVTK+\".vtk\")  # 替换为您的 VTK 文件名\n",
    "reader.Update()\n",
    "\n",
    "# 获取数据\n",
    "data = reader.GetOutput()\n",
    "\n",
    "start = time.time()\n",
    "\n",
    "# 创建 vtkGeometryFilter 来将数据转换为 vtkPolyData\n",
    "marching_cube = vtk.vtkContourFilter()\n",
    "marching_cubes.SetInputData(data)\n",
    "marching_cubes.SetValue(0, 0.1)  # 设置等值面的阈值\n",
    "marching_cubes.Update()\n",
    "\n",
    "end = time.time()\n",
    "\n",
    "subtime = end-start\n",
    "\n",
    "# 创建 STL Writer\n",
    "stl_writer = vtk.vtkSTLWriter()\n",
    "stl_writer.SetFileName(\"./3d/\"+transferVTK+\"_DC_target.stl\")  # 设置输出的 STL 文件名\n",
    "stl_writer.SetInputData(marching_cubes.GetOutput())  # 将转换后的 vtkPolyData 设置为输入\n",
    "\n",
    "print(transferVTK,\"Converting time(DC):\",subtime,\"s\")\n",
    "\n",
    "# 执行写入操作\n",
    "stl_writer.Write()\n"
   ]
  },
  {
   "cell_type": "code",
   "execution_count": 4,
   "metadata": {},
   "outputs": [
    {
     "name": "stdout",
     "output_type": "stream",
     "text": [
      "predict_voxels Converting time(DC): 0.11079216003417969 s\n"
     ]
    },
    {
     "data": {
      "text/plain": [
       "1"
      ]
     },
     "execution_count": 4,
     "metadata": {},
     "output_type": "execute_result"
    }
   ],
   "source": [
    "# -------------------------------------------------------\n",
    "# Convert the vtk file to stl file (Dual Contouring)\n",
    "# -------------------------------------------------------\n",
    "import vtk\n",
    "import time\n",
    "\n",
    "transferVTK = \"predict_voxels\"\n",
    "\n",
    "# 读取 VTK 文件\n",
    "reader = vtk.vtkDataSetReader()\n",
    "reader.SetFileName(\"./3d/\"+transferVTK+\".vtk\")  # 替换为您的 VTK 文件名\n",
    "reader.Update()\n",
    "\n",
    "# 获取数据\n",
    "data = reader.GetOutput()\n",
    "\n",
    "start = time.time()\n",
    "\n",
    "# 创建 vtkGeometryFilter 来将数据转换为 vtkPolyData\n",
    "marching_cube = vtk.vtkContourFilter()\n",
    "marching_cubes.SetInputData(data)\n",
    "marching_cubes.SetValue(0, 0.1)  # 设置等值面的阈值\n",
    "marching_cubes.Update()\n",
    "\n",
    "end = time.time()\n",
    "\n",
    "subtime = end-start\n",
    "\n",
    "# 创建 STL Writer\n",
    "stl_writer = vtk.vtkSTLWriter()\n",
    "stl_writer.SetFileName(\"./3d/\"+transferVTK+\"_DC_predict.stl\")  # 设置输出的 STL 文件名\n",
    "stl_writer.SetInputData(marching_cubes.GetOutput())  # 将转换后的 vtkPolyData 设置为输入\n",
    "\n",
    "print(transferVTK,\"Converting time(DC):\",subtime,\"s\")\n",
    "\n",
    "# 执行写入操作\n",
    "stl_writer.Write()\n"
   ]
  }
 ],
 "metadata": {
  "kernelspec": {
   "display_name": "dataEngineering",
   "language": "python",
   "name": "python3"
  },
  "language_info": {
   "codemirror_mode": {
    "name": "ipython",
    "version": 3
   },
   "file_extension": ".py",
   "mimetype": "text/x-python",
   "name": "python",
   "nbconvert_exporter": "python",
   "pygments_lexer": "ipython3",
   "version": "3.11.4"
  },
  "orig_nbformat": 4
 },
 "nbformat": 4,
 "nbformat_minor": 2
}
